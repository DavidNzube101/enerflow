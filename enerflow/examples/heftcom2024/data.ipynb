{
 "cells": [
  {
   "cell_type": "code",
   "execution_count": 1,
   "metadata": {},
   "outputs": [],
   "source": [
    "import numpy as np\n",
    "import pandas as pd\n",
    "import xarray as xr"
   ]
  },
  {
   "cell_type": "code",
   "execution_count": 19,
   "metadata": {},
   "outputs": [],
   "source": [
    "pd.DataFrame({'longitude': dwd_Hornsea1.longitude.values, 'latitude': dwd_Hornsea1.latitude.values, }).to_csv('dwd_coords_Hornsea1.csv', index=False)"
   ]
  },
  {
   "cell_type": "code",
   "execution_count": 2,
   "metadata": {},
   "outputs": [
    {
     "name": "stderr",
     "output_type": "stream",
     "text": [
      "/var/folders/sj/xlrs69b568n4mntwz_7crr4r0000gn/T/ipykernel_74869/835483287.py:4: FutureWarning: The 'unit' keyword in TimedeltaIndex construction is deprecated and will be removed in a future version. Use pd.to_timedelta instead.\n",
      "  dwd_Hornsea1_features[\"valid_datetime\"] = dwd_Hornsea1_features[\"ref_datetime\"] + pd.TimedeltaIndex(dwd_Hornsea1_features[\"valid_datetime\"],unit=\"hours\")\n"
     ]
    }
   ],
   "source": [
    "dwd_Hornsea1 = xr.open_dataset(\"data/dwd_icon_eu_hornsea_1_20200920_20231027.nc\")\n",
    "dwd_Hornsea1_features = dwd_Hornsea1[\"WindSpeed:100\"].mean(dim=[\"latitude\",\"longitude\"]).to_dataframe().reset_index()\n",
    "dwd_Hornsea1_features[\"ref_datetime\"] = dwd_Hornsea1_features[\"ref_datetime\"].dt.tz_localize(\"UTC\")\n",
    "dwd_Hornsea1_features[\"valid_datetime\"] = dwd_Hornsea1_features[\"ref_datetime\"] + pd.TimedeltaIndex(dwd_Hornsea1_features[\"valid_datetime\"],unit=\"hours\")"
   ]
  },
  {
   "cell_type": "code",
   "execution_count": 22,
   "metadata": {},
   "outputs": [],
   "source": [
    "pd.DataFrame({'longitude': dwd_solar.longitude.values, 'latitude': dwd_solar.latitude.values, }).to_csv('dwd_coords_solar.csv', index=False)"
   ]
  },
  {
   "cell_type": "code",
   "execution_count": 21,
   "metadata": {},
   "outputs": [
    {
     "name": "stderr",
     "output_type": "stream",
     "text": [
      "/var/folders/sj/xlrs69b568n4mntwz_7crr4r0000gn/T/ipykernel_74869/167480448.py:4: FutureWarning: The 'unit' keyword in TimedeltaIndex construction is deprecated and will be removed in a future version. Use pd.to_timedelta instead.\n",
      "  dwd_solar_features[\"valid_datetime\"] = dwd_solar_features[\"ref_datetime\"] + pd.TimedeltaIndex(dwd_solar_features[\"valid_datetime\"],unit=\"hours\")\n"
     ]
    }
   ],
   "source": [
    "dwd_solar = xr.open_dataset(\"data/dwd_icon_eu_pes10_20200920_20231027.nc\")\n",
    "dwd_solar_features = dwd_solar[\"SolarDownwardRadiation\"].mean(dim=\"point\").to_dataframe().reset_index()\n",
    "dwd_solar_features[\"ref_datetime\"] = dwd_solar_features[\"ref_datetime\"].dt.tz_localize(\"UTC\")\n",
    "dwd_solar_features[\"valid_datetime\"] = dwd_solar_features[\"ref_datetime\"] + pd.TimedeltaIndex(dwd_solar_features[\"valid_datetime\"],unit=\"hours\")"
   ]
  },
  {
   "cell_type": "code",
   "execution_count": 4,
   "metadata": {},
   "outputs": [],
   "source": [
    "energy_data = pd.read_csv(\"data/Energy_Data_20200920_20231027.csv\")\n",
    "energy_data[\"dtm\"] = pd.to_datetime(energy_data[\"dtm\"])\n",
    "energy_data[\"Wind_MWh_credit\"] = 0.5*energy_data[\"Wind_MW\"] - energy_data[\"boa_MWh\"]\n",
    "energy_data[\"Solar_MWh_credit\"] = 0.5*energy_data[\"Solar_MW\"]"
   ]
  },
  {
   "cell_type": "code",
   "execution_count": 168,
   "metadata": {},
   "outputs": [
    {
     "name": "stderr",
     "output_type": "stream",
     "text": [
      "/var/folders/sj/xlrs69b568n4mntwz_7crr4r0000gn/T/ipykernel_65470/2776683689.py:2: FutureWarning: 'T' is deprecated and will be removed in a future version, please use 'min' instead.\n",
      "  data = data.set_index(\"valid_datetime\").groupby(\"ref_datetime\").resample(\"30T\").interpolate(\"linear\")\n"
     ]
    }
   ],
   "source": [
    "data = dwd_Hornsea1_features.merge(dwd_solar_features,how=\"outer\",on=[\"ref_datetime\",\"valid_datetime\"])\n",
    "data = data.set_index(\"valid_datetime\").groupby(\"ref_datetime\").resample(\"30T\").interpolate(\"linear\")\n",
    "data = data.drop(columns=\"ref_datetime\",axis=1).reset_index()\n",
    "data = data.merge(energy_data,how=\"inner\",left_on=\"valid_datetime\",right_on=\"dtm\")\n",
    "data = data[data[\"valid_datetime\"] - data[\"ref_datetime\"] < np.timedelta64(50,\"h\")]\n",
    "data.rename(columns={\"WindSpeed:100\":\"WindSpeed\"}, inplace=True)\n",
    "data[\"total_generation_MWh\"] = data[\"Wind_MWh_credit\"] + data[\"Solar_MWh_credit\"]\n",
    "data.drop(columns=[\"dtm\"], inplace=True)"
   ]
  },
  {
   "cell_type": "code",
   "execution_count": 169,
   "metadata": {},
   "outputs": [],
   "source": [
    "condition1 = data['ref_datetime'].dt.hour == 0\n",
    "\n",
    "condition2 = ((data['valid_datetime'].dt.hour >= 23) & (data['valid_datetime'].dt.date == data['ref_datetime'].dt.date)) | \\\n",
    "             ((data['valid_datetime'].dt.hour < 23) & (data['valid_datetime'].dt.date == (data['ref_datetime'] + pd.Timedelta(days=1)).dt.date))\n",
    "\n",
    "data = data[condition1 & condition2]\n",
    "data = data.iloc[:-2]\n",
    "data = data.reset_index(drop=True)\n",
    "data[\"market_day\"] = data[\"ref_datetime\"].dt.date+pd.Timedelta(days=1)"
   ]
  },
  {
   "cell_type": "code",
   "execution_count": 171,
   "metadata": {},
   "outputs": [],
   "source": [
    "data.to_csv(\"data/data_heftcom2024.csv\", index=False)"
   ]
  },
  {
   "cell_type": "code",
   "execution_count": 163,
   "metadata": {},
   "outputs": [],
   "source": [
    "# What to do now? \n",
    "# 0) Data can always be messy. We should always clean data first before creating the environment. Right? \n",
    "# 1) save the data to a csv file\n",
    "# 2) Add the data to the environment\n",
    "# 3) Loop through the market days and feed the state\n",
    "# 4) Run the Agent. "
   ]
  },
  {
   "cell_type": "code",
   "execution_count": null,
   "metadata": {},
   "outputs": [],
   "source": [
    "prediction = model.predict()\n",
    "prediction.shape = (samples, horizon, targets)\n",
    "target \n",
    "\n",
    "error = (prediction - target)**2\n",
    "plt.plot(error.mean(axis=0)) \n",
    "\n",
    "\n",
    "class Predictor(rb.Predictor): \n",
    "    def __init__(self, windfarm: rb.WindFarm):\n",
    "        self.windfarm = windfarm\n",
    "        self.model = \n",
    "\n",
    "    def laod_training_data(): \n",
    "\n",
    "    def load_predict_data(): \n",
    "\n",
    "    def train(): \n",
    "\n",
    "        self.model =\n",
    "\n",
    "    def predict(self, state: rb.Input, horizon: int) -> np.ndarray:\n"
   ]
  },
  {
   "cell_type": "markdown",
   "metadata": {},
   "source": [
    "# 1) create rb.WindFarm\n",
    "# 2) create rb.Predictor \n",
    "# 3) train on training data (optional RWE API otherwise csv-file)\n",
    "# 4) evaluate train and test and plot in notebook\n",
    "# 5) deploy model using toolkit\n",
    "# 6) use model API to predict on lastest data\n",
    "# 7) plot the last forecast in notebook\n",
    "\n"
   ]
  }
 ],
 "metadata": {
  "kernelspec": {
   "display_name": ".venv_heftcom2024",
   "language": "python",
   "name": "python3"
  },
  "language_info": {
   "codemirror_mode": {
    "name": "ipython",
    "version": 3
   },
   "file_extension": ".py",
   "mimetype": "text/x-python",
   "name": "python",
   "nbconvert_exporter": "python",
   "pygments_lexer": "ipython3",
   "version": "3.11.4"
  }
 },
 "nbformat": 4,
 "nbformat_minor": 2
}
